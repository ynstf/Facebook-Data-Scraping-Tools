{
 "cells": [
  {
   "cell_type": "code",
   "execution_count": 59,
   "id": "02f8913d",
   "metadata": {},
   "outputs": [],
   "source": [
    "from selenium import webdriver\n",
    "from selenium.webdriver.common.keys import Keys\n",
    "from time import sleep\n",
    "from bs4 import BeautifulSoup"
   ]
  },
  {
   "cell_type": "code",
   "execution_count": 70,
   "id": "913193cc",
   "metadata": {},
   "outputs": [],
   "source": [
    "# Step 1) Open Firefox in headless mode\n",
    "options = webdriver.FirefoxOptions()\n",
    "options.add_argument(\"--headless\")  # Run the browser in headless mode\n",
    "options.add_argument(\"--window-size=1920,1080\")  # Set the window size\n",
    "\n",
    "browser = webdriver.Firefox(options=options)"
   ]
  },
  {
   "cell_type": "code",
   "execution_count": 71,
   "id": "ba6ffdd8",
   "metadata": {},
   "outputs": [],
   "source": [
    "# Step 2) Navigate to Facebook\n",
    "browser.get(\"http://www.facebook.com\")"
   ]
  },
  {
   "cell_type": "code",
   "execution_count": 72,
   "id": "e3ca592f",
   "metadata": {},
   "outputs": [],
   "source": [
    "# Step 3) Search & Enter the Email or Phone field & Enter Password\n",
    "username = browser.find_element(\"id\", \"email\")\n",
    "password = browser.find_element(\"id\", \"pass\")\n",
    "submit = browser.find_element(\"name\", \"login\")\n",
    "username.send_keys(email)\n",
    "password.send_keys(pswd)"
   ]
  },
  {
   "cell_type": "code",
   "execution_count": null,
   "id": "26a63936",
   "metadata": {},
   "outputs": [],
   "source": []
  },
  {
   "cell_type": "code",
   "execution_count": 73,
   "id": "539911e1",
   "metadata": {},
   "outputs": [],
   "source": [
    "# Step 4) Click Login\n",
    "submit.click()"
   ]
  },
  {
   "cell_type": "code",
   "execution_count": 74,
   "id": "11551585",
   "metadata": {},
   "outputs": [],
   "source": [
    "# Step 6) Navigate to the group members page\n",
    "group_members_url = \"https://www.facebook.com/groups/933226904724060/members\"\n",
    "browser.get(group_members_url)"
   ]
  },
  {
   "cell_type": "code",
   "execution_count": 103,
   "id": "f567001d",
   "metadata": {},
   "outputs": [
    {
     "data": {
      "text/plain": [
       "'933226904724060'"
      ]
     },
     "execution_count": 103,
     "metadata": {},
     "output_type": "execute_result"
    }
   ],
   "source": [
    "group_members_url.split('/')[-2]"
   ]
  },
  {
   "cell_type": "code",
   "execution_count": 98,
   "id": "bd9187a7",
   "metadata": {},
   "outputs": [
    {
     "name": "stdout",
     "output_type": "stream",
     "text": [
      "Processing: 3\n"
     ]
    }
   ],
   "source": [
    "# Step 7) Scroll down to load all users (as mentioned in the previous response)\n",
    "steps = 2\n",
    "SCROLL_PAUSE_TIME = 10  # You can adjust this value based on your needs\n",
    "\n",
    "# Get scroll height\n",
    "last_height = browser.execute_script(\"return Math.max( document.body.scrollHeight, document.body.offsetHeight, document.documentElement.clientHeight, document.documentElement.scrollHeight, document.documentElement.offsetHeight );\")\n",
    "n = 0\n",
    "while True:\n",
    "    \n",
    "    if n >steps:\n",
    "        break\n",
    "    \n",
    "    # Scroll down to bottom\n",
    "    browser.execute_script(\"window.scrollTo(0, document.body.scrollHeight);\")\n",
    "\n",
    "    # Wait to load page\n",
    "    ###sleep(SCROLL_PAUSE_TIME)\n",
    "\n",
    "    # Calculate new scroll height and compare with last scroll height\n",
    "    new_height = browser.execute_script(\"return Math.max( document.body.scrollHeight, document.body.offsetHeight, document.documentElement.clientHeight, document.documentElement.scrollHeight, document.documentElement.offsetHeight );\")\n",
    "    if new_height != last_height:\n",
    "        n+=1\n",
    "        print(f\"Processing: {n}\", end='\\r', flush=True)\n",
    "    last_height = new_height\n",
    "\n",
    "print(f\"Processing: {n}\")"
   ]
  },
  {
   "cell_type": "code",
   "execution_count": null,
   "id": "99f54b70",
   "metadata": {},
   "outputs": [],
   "source": []
  },
  {
   "cell_type": "code",
   "execution_count": 107,
   "id": "be4598e9",
   "metadata": {},
   "outputs": [
    {
     "name": "stdout",
     "output_type": "stream",
     "text": [
      "you have 1385 user\n"
     ]
    }
   ],
   "source": [
    "# Step 8) Extract user IDs after all users are loaded\n",
    "html_source = browser.page_source\n",
    "soup = BeautifulSoup(html_source, 'html.parser')\n",
    "\n",
    "user_elements = soup.find_all(\"a\", href=lambda href: href and f\"/groups/{group_members_url.split('/')[-2]}/user/\" in href)\n",
    "user_ids = [element['href'].split(\"/\")[-2] for element in user_elements]\n",
    "\n",
    "print(f'you have {len(set(user_ids))} user')\n",
    "\n"
   ]
  },
  {
   "cell_type": "code",
   "execution_count": 100,
   "id": "00991587",
   "metadata": {},
   "outputs": [
    {
     "name": "stdout",
     "output_type": "stream",
     "text": [
      "Processing: 1385\n",
      "User IDs have been saved to user_ids.txt\n"
     ]
    }
   ],
   "source": [
    "# Specify the path where you want to save the file\n",
    "file_path = \"user_ids.txt\"\n",
    "\n",
    "# Open the file in write mode\n",
    "i = 0\n",
    "with open(file_path, 'w') as file:\n",
    "    # Write each user ID to the file\n",
    "    for user_id in set(user_ids):\n",
    "        file.write(f\"User ID: {user_id}\\n\")\n",
    "        i+=1\n",
    "        # Print the dynamic count in the command prompt\n",
    "        print(f\"Processing: {i}\", end='\\r', flush=True)\n",
    "\n",
    "print(f\"Processing: {i}\")\n",
    "print(f\"User IDs have been saved to {file_path}\")\n"
   ]
  },
  {
   "cell_type": "code",
   "execution_count": 83,
   "id": "27045c4d",
   "metadata": {},
   "outputs": [
    {
     "name": "stdout",
     "output_type": "stream",
     "text": [
      "User ID: 61554789098247\n",
      "User ID: 100002244012168\n",
      "User ID: 100092837107878\n",
      "User ID: 100002763324956\n",
      "User ID: 100003654471151\n",
      "User ID: 100094096447235\n",
      "User ID: 61555234260572\n",
      "User ID: 1136975415\n",
      "User ID: 61552216485899\n",
      "User ID: 100070159262976\n",
      "User ID: 100010858964925\n",
      "User ID: 100004094828088\n",
      "User ID: 100001873349156\n",
      "User ID: 100089717358967\n",
      "User ID: 61554037379458\n",
      "User ID: 100000932203499\n",
      "User ID: 808178927\n",
      "User ID: 1163496747\n",
      "User ID: 100045354082309\n",
      "User ID: 100030184683934\n",
      "User ID: 100001162026278\n",
      "User ID: 100006978545166\n",
      "User ID: 100004613437355\n",
      "User ID: 100092008986743\n",
      "User ID: 100086941387690\n",
      "User ID: 100005654281963\n",
      "User ID: 100013522181436\n",
      "User ID: 1446625683\n",
      "User ID: 100049984393739\n",
      "User ID: 100001061642306\n",
      "User ID: 100034284113958\n",
      "User ID: 100029418736530\n",
      "User ID: 100089863055357\n",
      "User ID: 61554513051294\n",
      "User ID: 100007578452357\n",
      "User ID: 100014705323060\n",
      "User ID: 100085753546882\n",
      "User ID: 100033436636680\n",
      "User ID: 100002371311547\n",
      "User ID: 100007525154395\n",
      "User ID: 61553452320475\n",
      "User ID: 100013633957099\n",
      "User ID: 100016396982745\n",
      "User ID: 100011224117576\n",
      "User ID: 100004581045390\n",
      "User ID: 61553801313505\n",
      "User ID: 100076686284885\n",
      "User ID: 100030940936049\n",
      "User ID: 543280008\n",
      "User ID: 100036091304825\n",
      "User ID: 1180560840\n",
      "User ID: 100004331674366\n",
      "User ID: 100007892767684\n",
      "User ID: 100009957811448\n",
      "User ID: 61555327995109\n",
      "User ID: 100000732861561\n",
      "User ID: 856820084\n",
      "User ID: 100006589837217\n",
      "User ID: 100041711500044\n",
      "User ID: 100007176764667\n",
      "User ID: 61554433781115\n",
      "User ID: 100002379750084\n",
      "User ID: 61554005025931\n",
      "User ID: 100075302246776\n",
      "User ID: 61554140853636\n",
      "User ID: 100001094915180\n",
      "User ID: 100072415282217\n",
      "User ID: 100012860100895\n",
      "User ID: 100007167456250\n",
      "User ID: 715290614\n",
      "User ID: 100044834326797\n",
      "User ID: 100000777012982\n",
      "User ID: 100003462045999\n",
      "User ID: 100048130743630\n",
      "User ID: 1096433605\n",
      "User ID: 100084298664611\n",
      "User ID: 1426596714\n",
      "User ID: 100001202208725\n",
      "User ID: 100057329883996\n",
      "User ID: 100095417165439\n",
      "User ID: 100091403173552\n",
      "User ID: 100077631707603\n",
      "User ID: 100084285560902\n",
      "User ID: 100006867645922\n",
      "User ID: 100005068333155\n",
      "User ID: 100057462753956\n",
      "User ID: 100008188982315\n",
      "User ID: 100007783412162\n",
      "User ID: 100067036578825\n",
      "User ID: 100001318568313\n",
      "User ID: 100002114726031\n",
      "User ID: 763430366\n",
      "User ID: 100003831537149\n",
      "User ID: 61551747376191\n",
      "User ID: 100043765837441\n",
      "User ID: 100006873885666\n",
      "User ID: 61555798555412\n",
      "User ID: 100000912908585\n",
      "User ID: 100076178701826\n",
      "User ID: 100070216773936\n",
      "User ID: 100040665156434\n",
      "User ID: 1399283995\n",
      "User ID: 61553083269274\n",
      "User ID: 100006468676531\n",
      "User ID: 100000889197369\n",
      "User ID: 100050720382095\n",
      "User ID: 100082212542479\n"
     ]
    }
   ],
   "source": [
    "# Print the extracted user IDs\n",
    "for user_id in set(user_ids):\n",
    "    print(f\"User ID: {user_id}\")"
   ]
  }
 ],
 "metadata": {
  "kernelspec": {
   "display_name": "Python 3 (ipykernel)",
   "language": "python",
   "name": "python3"
  },
  "language_info": {
   "codemirror_mode": {
    "name": "ipython",
    "version": 3
   },
   "file_extension": ".py",
   "mimetype": "text/x-python",
   "name": "python",
   "nbconvert_exporter": "python",
   "pygments_lexer": "ipython3",
   "version": "3.9.12"
  }
 },
 "nbformat": 4,
 "nbformat_minor": 5
}
